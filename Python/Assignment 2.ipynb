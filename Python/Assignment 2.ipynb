{
 "cells": [
  {
   "cell_type": "markdown",
   "id": "19ec0f70",
   "metadata": {},
   "source": [
    "### 1.\tCreate a python program to find duplicate files by content. User will input path and it will scan all directories, sub-directories to find all duplicates files.Delete the found duplicate file.  [Hint: use hashlib]\n"
   ]
  },
  {
   "cell_type": "code",
   "execution_count": 6,
   "id": "ab29f9a0",
   "metadata": {},
   "outputs": [
    {
     "name": "stdout",
     "output_type": "stream",
     "text": [
      "Enter the path to search for duplicates: D:\\n\n",
      "1 duplicate files found:\n",
      "D:\\n\\text1.txt (duplicate of D:\\n\\text.txt)\n",
      "Do you want to delete the duplicates? (y/n): y\n",
      "Deleting D:\\n\\text1.txt (duplicate of D:\\n\\text.txt)\n",
      "Duplicates deleted successfully!\n"
     ]
    }
   ],
   "source": [
    "import os\n",
    "import hashlib\n",
    "\n",
    "def find_duplicate_files(path):\n",
    "    # dictionary to store file paths and their corresponding hashes\n",
    "    hashes = {}\n",
    "    duplicates = []\n",
    "# walk through all the directories and subdirectories\n",
    "    for root, dirs, files in os.walk(path):\n",
    "        for file in files:\n",
    "            # get the full path of the file\n",
    "            file_path = os.path.join(root, file)\n",
    "\n",
    "            # calculate the hash of the file contents\n",
    "            with open(file_path, 'rb') as f:\n",
    "                file_hash = hashlib.md5(f.read()).hexdigest()\n",
    "\n",
    "            # if the hash already exists in the dictionary, add it to the list of duplicates\n",
    "            if file_hash in hashes:\n",
    "                duplicates.append((file_path, hashes[file_hash]))\n",
    "            else:\n",
    "                hashes[file_hash] = file_path\n",
    "\n",
    "    return duplicates\n",
    "\n",
    "def delete_duplicates(duplicates):\n",
    "    for duplicate in duplicates:\n",
    "        # print the duplicates before deleting\n",
    "        print(f'Deleting {duplicate[0]} (duplicate of {duplicate[1]})')\n",
    "\n",
    "        # delete the duplicate file\n",
    "        os.remove(duplicate[0])\n",
    "\n",
    "if __name__ == '__main__':\n",
    "    path = input('Enter the path to search for duplicates: ')\n",
    "    duplicates = find_duplicate_files(path)\n",
    "\n",
    "    if duplicates:\n",
    "        print(f'{len(duplicates)} duplicate files found:')\n",
    "        for duplicate in duplicates:\n",
    "            print(f'{duplicate[0]} (duplicate of {duplicate[1]})')\n",
    "\n",
    "        delete = input('Do you want to delete the duplicates? (y/n): ')\n",
    "        if delete.lower() == 'y':\n",
    "            delete_duplicates(duplicates)\n",
    "            print('Duplicates deleted successfully!')\n",
    "        else:\n",
    "            print('Duplicates not deleted.')\n",
    "    else:\n",
    "        print('No duplicate files found.')\n"
   ]
  },
  {
   "cell_type": "markdown",
   "id": "d842446b",
   "metadata": {},
   "source": [
    "### 2.Generate random Password with exact length = 6, with minimum 1 uppercase, 2 lowercase, 2 digits, and remaining special characters. Using these packages [random, strings]\n"
   ]
  },
  {
   "cell_type": "code",
   "execution_count": 8,
   "id": "7988383d",
   "metadata": {},
   "outputs": [
    {
     "name": "stdout",
     "output_type": "stream",
     "text": [
      "random password=  <Fn6a4\n",
      "None\n"
     ]
    }
   ],
   "source": [
    "import random\n",
    "import string\n",
    "def password(length):\n",
    "    \n",
    "    dc=string.digits\n",
    "    uc=string.ascii_uppercase\n",
    "    lc=string.ascii_lowercase\n",
    "    sc= string.punctuation\n",
    "    \n",
    "    result1=''.join(random.choice(uc)for i in range(1))\n",
    "    result2=''.join(random.choice(lc)for i in range(2))\n",
    "    result3=''.join(random.choice(dc)for i in range(2))\n",
    "    result4=''.join(random.choice(sc)for i in range(1))\n",
    "    resultpassword=result1+result2+result3+result4\n",
    "    resultpassword=''.join(random.sample(resultpassword,len(resultpassword)))\n",
    "    print(\"random password= \",resultpassword)\n",
    "    \n",
    "print(password(6))"
   ]
  },
  {
   "cell_type": "markdown",
   "id": "8a0d2c84",
   "metadata": {},
   "source": [
    "### 3. Create 2D array and update the same 2D array provided that every prime number position should be replaced by cube of the positioned number."
   ]
  },
  {
   "cell_type": "code",
   "execution_count": 41,
   "id": "0e442ddc",
   "metadata": {},
   "outputs": [
    {
     "name": "stdout",
     "output_type": "stream",
     "text": [
      "enter the rows6\n",
      "enter the columns6\n",
      "[[    1     1     8    27     1   125]\n",
      " [    1   343     1     1     1  1331]\n",
      " [    1  2197     1     1     1  4913]\n",
      " [    1  6859     1     1     1 12167]\n",
      " [    1     1     1     1     1 24389]\n",
      " [    1 29791     1     1     1     1]]\n"
     ]
    }
   ],
   "source": [
    "import numpy as np\n",
    "\n",
    "def prime(a):\n",
    "    c=0\n",
    "    for i in range(1,a):\n",
    "        if a%i==0:\n",
    "            c+=1\n",
    "    if c==1:\n",
    "        return True\n",
    "    else:\n",
    "        return False\n",
    " \n",
    "def solution(arr_1,x,y):\n",
    "    k=0\n",
    "    for i in range(x):\n",
    "        for j in range(y):\n",
    "            \n",
    "            if prime(k)==True:\n",
    "                arr_1[i,j]=(k)**3\n",
    "            k+=1\n",
    "    return arr_1\n",
    "\n",
    "x=int(input('enter the rows'))\n",
    "y=int(input('enter the columns'))\n",
    "arr_1=np.ones((x,y),dtype='int')\n",
    "mat=solution(arr_1,x,y)\n",
    "print(mat)"
   ]
  },
  {
   "cell_type": "markdown",
   "id": "84397a34",
   "metadata": {},
   "source": [
    "### 4. Python program to get the sum of every cubed value and its previous integer. "
   ]
  },
  {
   "cell_type": "code",
   "execution_count": 47,
   "id": "1001dbe3",
   "metadata": {},
   "outputs": [
    {
     "name": "stdout",
     "output_type": "stream",
     "text": [
      "enter the rows6\n",
      "enter the columns6\n",
      "[[    0     1     8    27     4   125]\n",
      " [    6   343     8     9    10  1331]\n",
      " [   12  2197    14    15    16  4913]\n",
      " [   18  6859    20    21    22 12167]\n",
      " [   24    25    26    27    28 24389]\n",
      " [   30 29791    32    33    34    35]]\n"
     ]
    }
   ],
   "source": [
    "import numpy as np\n",
    "\n",
    "def prime(a):\n",
    "    c=0\n",
    "    for i in range(1,a):\n",
    "        if a%i==0:\n",
    "            c+=1\n",
    "    if c==1:\n",
    "        return True\n",
    "    else:\n",
    "        return False\n",
    " \n",
    "def solution(arr_1,x,y):\n",
    "    k=0\n",
    "    for i in range(x):\n",
    "        for j in range(y):\n",
    "            \n",
    "            if prime(k)==True:\n",
    "                arr_1[i,j]=(k)**3\n",
    "            k+=1\n",
    "    return arr_1\n",
    "\n",
    "x=int(input('enter the rows'))\n",
    "y=int(input('enter the columns'))\n",
    "#arr_1=np.ones((x,y),dtype='int')\n",
    "arr_1=np.arange((x*y)).reshape(x,y)\n",
    "mat=solution(arr_1,x,y)\n",
    "print(mat)"
   ]
  },
  {
   "cell_type": "markdown",
   "id": "d3b45fda",
   "metadata": {},
   "source": [
    "### 5.\tGiven two arrays, find their intersection. Examples:\n",
    "\n",
    "Input:  arr1[] = [1, 3, 4, 5, 7]\n",
    "             arr2[] = [2, 3, 5, 6]\n"
   ]
  },
  {
   "cell_type": "code",
   "execution_count": 13,
   "id": "c15da39e",
   "metadata": {},
   "outputs": [
    {
     "name": "stdout",
     "output_type": "stream",
     "text": [
      "{3, 5}\n"
     ]
    }
   ],
   "source": [
    "arr_1=[1,3,4,5,7]\n",
    "arr_1=set(arr_1)\n",
    "arr_2=[2,3,5,6]\n",
    "arr_2=set(arr_2)\n",
    "\n",
    "arr3 = arr_1.intersection(arr2)\n",
    "print(arr3)"
   ]
  },
  {
   "cell_type": "markdown",
   "id": "6b12f104",
   "metadata": {},
   "source": [
    "### 6.\tCreate a 7 x 7  2D array having only multiples of 7. And return the last element of the same."
   ]
  },
  {
   "cell_type": "code",
   "execution_count": 15,
   "id": "b63d35a9",
   "metadata": {},
   "outputs": [
    {
     "name": "stdout",
     "output_type": "stream",
     "text": [
      "[[  7  14  21  28  35  42  49]\n",
      " [ 56  63  70  77  84  91  98]\n",
      " [105 112 119 126 133 140 147]\n",
      " [154 161 168 175 182 189 196]\n",
      " [203 210 217 224 231 238 245]\n",
      " [252 259 266 273 280 287 294]\n",
      " [301 308 315 322 329 336 343]]\n",
      "343\n"
     ]
    }
   ],
   "source": [
    "arr3=np.arange(7,(7**3)+1,7).reshape(7,7)\n",
    "\n",
    "print(arr3)\n",
    "print(arr3[6][6])"
   ]
  },
  {
   "cell_type": "markdown",
   "id": "c0beb064",
   "metadata": {},
   "source": [
    "###  7.\tChecker Board Patten using Numpy:\n",
    "    [1   0   1   0   1   0   1\n",
    "\n",
    "    0   1   0   1   0   1   0\n",
    "    \n",
    "    1   0   1   0   1   0   1\n",
    "    \n",
    "    0   1   0   1   0   1   0\n",
    "    \n",
    "    1   0   1   0   1   0   1  ]\n"
   ]
  },
  {
   "cell_type": "code",
   "execution_count": 18,
   "id": "1cfbabff",
   "metadata": {},
   "outputs": [
    {
     "data": {
      "text/plain": [
       "array([[1, 0, 1, 0, 1, 0, 1],\n",
       "       [0, 1, 0, 1, 0, 1, 0],\n",
       "       [1, 0, 1, 0, 1, 0, 1],\n",
       "       [0, 1, 0, 1, 0, 1, 0],\n",
       "       [1, 0, 1, 0, 1, 0, 1],\n",
       "       [0, 1, 0, 1, 0, 1, 0],\n",
       "       [1, 0, 1, 0, 1, 0, 1]], dtype=int8)"
      ]
     },
     "execution_count": 18,
     "metadata": {},
     "output_type": "execute_result"
    }
   ],
   "source": [
    "arr2=np.ones((7,7),dtype='int8')\n",
    "arr2[1::2,::2]=0\n",
    "arr2[::2,1::2]=0\n",
    "arr2"
   ]
  },
  {
   "cell_type": "markdown",
   "id": "f36f9088",
   "metadata": {},
   "source": [
    "### 8.\tCreate a given Matrix:\n",
    "[  A,     B,     C,       D\n",
    "E,      F,     G,       H\n",
    "I,      a,      K,       L\n",
    "M,    N,     o,       P\n",
    "Q,     R,      S,       T\n",
    "U,     0,     W,      O ]\n",
    "\n",
    "Replace all the vowels by np.nan\n",
    "A, E, I, O U  -- >  np.nan\n",
    "Return the count of the missing values\n"
   ]
  },
  {
   "cell_type": "code",
   "execution_count": 22,
   "id": "646bbad1",
   "metadata": {},
   "outputs": [
    {
     "name": "stdout",
     "output_type": "stream",
     "text": [
      "[[None, 'B', 'C', 'D'], [None, 'F', 'G', 'H'], [None, None, 'K', 'L'], ['M', 'N', None, 'P'], ['Q', 'R', 'S', 'T'], [None, '0', 'W', None]]\n",
      "Number of missing values: 7\n"
     ]
    }
   ],
   "source": [
    "#8\n",
    "# create the matrix as a list of lists\n",
    "l1 = [['A', 'B', 'C', 'D'],\n",
    "       ['E', 'F', 'G', 'H'],\n",
    "       ['I', 'a', 'K', 'L'],\n",
    "       ['M', 'N', 'o', 'P'],\n",
    "       ['Q', 'R', 'S', 'T'],\n",
    "       ['U', '0', 'W', 'O']]\n",
    "\n",
    "# define vowels to replace with None\n",
    "vowels = ['A', 'E', 'I', 'O', 'U', 'a', 'o']\n",
    "\n",
    "# replace vowels with None\n",
    "for i in range(len(l1)):\n",
    "    for j in range(len(l1[i])):\n",
    "        if l1[i][j] in vowels:\n",
    "            l1[i][j] = None\n",
    "\n",
    "# count missing values\n",
    "count_none = sum(1 for row in l1 for val in row if val is None)\n",
    "\n",
    "print(l1)\n",
    "\n",
    "print(\"Number of missing values:\", count_none)\n"
   ]
  },
  {
   "cell_type": "code",
   "execution_count": null,
   "id": "d12e6f32",
   "metadata": {},
   "outputs": [],
   "source": []
  }
 ],
 "metadata": {
  "kernelspec": {
   "display_name": "Python 3 (ipykernel)",
   "language": "python",
   "name": "python3"
  },
  "language_info": {
   "codemirror_mode": {
    "name": "ipython",
    "version": 3
   },
   "file_extension": ".py",
   "mimetype": "text/x-python",
   "name": "python",
   "nbconvert_exporter": "python",
   "pygments_lexer": "ipython3",
   "version": "3.9.13"
  }
 },
 "nbformat": 4,
 "nbformat_minor": 5
}
